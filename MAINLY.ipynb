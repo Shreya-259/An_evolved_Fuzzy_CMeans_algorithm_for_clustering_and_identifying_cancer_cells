'''Dataset  
Due to size limitations, the dataset is not included in this repository.
You can download it from https://www.kaggle.com/datasets/riyaelizashaju/skin-disease-classification-image-dataset '''
